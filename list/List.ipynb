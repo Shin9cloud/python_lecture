{
 "cells": [
  {
   "cell_type": "code",
   "execution_count": 16,
   "id": "b9b3c67b",
   "metadata": {},
   "outputs": [
    {
     "data": {
      "text/html": [
       "<style>.container { width:100% !important; }</style>"
      ],
      "text/plain": [
       "<IPython.core.display.HTML object>"
      ]
     },
     "metadata": {},
     "output_type": "display_data"
    }
   ],
   "source": [
    "from IPython.core.display import display, HTML\n",
    "display(HTML(\"<style>.container { width:100% !important; }</style>\"))"
   ]
  },
  {
   "cell_type": "code",
   "execution_count": 1,
   "id": "d4e1b780",
   "metadata": {},
   "outputs": [
    {
     "data": {
      "text/plain": [
       "[11, 22, 33, 44, 55, 66]"
      ]
     },
     "execution_count": 1,
     "metadata": {},
     "output_type": "execute_result"
    }
   ],
   "source": [
    "n_list = [11, 22, 33, 44, 55, 66]\n",
    "n_list"
   ]
  },
  {
   "cell_type": "markdown",
   "id": "e7ebbbea",
   "metadata": {},
   "source": [
    "#### 리스트의 인덱싱과 슬라이싱"
   ]
  },
  {
   "cell_type": "code",
   "execution_count": 2,
   "id": "f3339648",
   "metadata": {},
   "outputs": [
    {
     "data": {
      "text/plain": [
       "4"
      ]
     },
     "execution_count": 2,
     "metadata": {},
     "output_type": "execute_result"
    }
   ],
   "source": [
    "a = [1,2,3]\n",
    "a[0]+a[2]"
   ]
  },
  {
   "cell_type": "markdown",
   "id": "f1e56ac4",
   "metadata": {},
   "source": [
    "#### 리스트안에 리스트도 올 수 있다."
   ]
  },
  {
   "cell_type": "code",
   "execution_count": 3,
   "id": "14e11806",
   "metadata": {},
   "outputs": [
    {
     "data": {
      "text/plain": [
       "'c'"
      ]
     },
     "execution_count": 3,
     "metadata": {},
     "output_type": "execute_result"
    }
   ],
   "source": [
    "a = [1,2,3,['a','b','c']]\n",
    "a[3][2]"
   ]
  },
  {
   "cell_type": "markdown",
   "id": "84f34aba",
   "metadata": {},
   "source": [
    "#### 삼중 리스트에서 인덱싱하기"
   ]
  },
  {
   "cell_type": "code",
   "execution_count": 4,
   "id": "605829e3",
   "metadata": {
    "scrolled": true
   },
   "outputs": [
    {
     "data": {
      "text/plain": [
       "'Life'"
      ]
     },
     "execution_count": 4,
     "metadata": {},
     "output_type": "execute_result"
    }
   ],
   "source": [
    "a = [1, 2, ['a', 'b', ['Life', 'is']]]\n",
    "\n",
    "# b = a[2]\n",
    "# c = b[2]\n",
    "# c[0]\n",
    "# Life를 찾는다.\n",
    "a[2][2][0]"
   ]
  },
  {
   "cell_type": "markdown",
   "id": "2f5f6112",
   "metadata": {},
   "source": [
    "#### 음수인덱싱"
   ]
  },
  {
   "cell_type": "code",
   "execution_count": 5,
   "id": "68ac5bc3",
   "metadata": {},
   "outputs": [
    {
     "data": {
      "text/plain": [
       "'a'"
      ]
     },
     "execution_count": 5,
     "metadata": {},
     "output_type": "execute_result"
    }
   ],
   "source": [
    "# 'a'를 음수 인덱싱을 이용해서 찾는다.\n",
    "a = [1,2,3,['a','b','c']]\n",
    "a[-1][-3]"
   ]
  },
  {
   "cell_type": "markdown",
   "id": "61a60ab4",
   "metadata": {},
   "source": [
    "#### 리스트의 슬라이싱"
   ]
  },
  {
   "cell_type": "code",
   "execution_count": 6,
   "id": "845fbde9",
   "metadata": {},
   "outputs": [
    {
     "data": {
      "text/plain": [
       "[1, 2, 3]"
      ]
     },
     "execution_count": 6,
     "metadata": {},
     "output_type": "execute_result"
    }
   ],
   "source": [
    "a = [1,2,3,4,5]\n",
    "a[0:3]"
   ]
  },
  {
   "cell_type": "code",
   "execution_count": 7,
   "id": "e1a2bcaa",
   "metadata": {
    "scrolled": true
   },
   "outputs": [
    {
     "name": "stdout",
     "output_type": "stream",
     "text": [
      "[1, 2] [3, 4, 5]\n"
     ]
    }
   ],
   "source": [
    "b = a[:2]\n",
    "c = a[2:]\n",
    "print(b,c)\n"
   ]
  },
  {
   "cell_type": "markdown",
   "id": "a6658ead",
   "metadata": {},
   "source": [
    "#### 리스트의 음수 슬라이싱"
   ]
  },
  {
   "cell_type": "code",
   "execution_count": 9,
   "id": "f1bfb533",
   "metadata": {},
   "outputs": [
    {
     "data": {
      "text/plain": [
       "[3, 4]"
      ]
     },
     "execution_count": 9,
     "metadata": {},
     "output_type": "execute_result"
    }
   ],
   "source": [
    "a = [1,2,3,4,5]\n",
    "a[-3:-1]"
   ]
  },
  {
   "cell_type": "markdown",
   "id": "7cffeb58",
   "metadata": {},
   "source": [
    "#### 리스트 연산하기"
   ]
  },
  {
   "cell_type": "code",
   "execution_count": 10,
   "id": "af6f3041",
   "metadata": {},
   "outputs": [
    {
     "data": {
      "text/plain": [
       "[1, 2, 3, 4, 5, 6]"
      ]
     },
     "execution_count": 10,
     "metadata": {},
     "output_type": "execute_result"
    }
   ],
   "source": [
    "# 리스트 더하기\n",
    "a = [1, 2, 3]\n",
    "b = [4, 5, 6]\n",
    "a + b"
   ]
  },
  {
   "cell_type": "code",
   "execution_count": 12,
   "id": "6136da4b",
   "metadata": {},
   "outputs": [
    {
     "data": {
      "text/plain": [
       "[1, 2, 3, 1, 2, 3, 1, 2, 3]"
      ]
     },
     "execution_count": 12,
     "metadata": {},
     "output_type": "execute_result"
    }
   ],
   "source": [
    "# 리스트 반복하기(*)\n",
    "a = [1, 2, 3]\n",
    "b = [4, 5, 6]\n",
    "a * 3"
   ]
  },
  {
   "cell_type": "code",
   "execution_count": 17,
   "id": "2669a51e",
   "metadata": {},
   "outputs": [
    {
     "data": {
      "text/plain": [
       "3"
      ]
     },
     "execution_count": 17,
     "metadata": {},
     "output_type": "execute_result"
    }
   ],
   "source": [
    "# 리스트 길이구하기\n",
    "a = [1, 2, 3]\n",
    "len(a)"
   ]
  },
  {
   "cell_type": "code",
   "execution_count": 23,
   "id": "66ef1738",
   "metadata": {},
   "outputs": [],
   "source": [
    "# del 키워드 사용해 리스트 요소 삭제하기\n",
    "a = [1, 2, 3]\n",
    "del a[1]"
   ]
  },
  {
   "cell_type": "code",
   "execution_count": 25,
   "id": "1029f045",
   "metadata": {},
   "outputs": [
    {
     "data": {
      "text/plain": [
       "[1, 3]"
      ]
     },
     "execution_count": 25,
     "metadata": {},
     "output_type": "execute_result"
    }
   ],
   "source": [
    "a"
   ]
  },
  {
   "cell_type": "code",
   "execution_count": 26,
   "id": "2256e192",
   "metadata": {},
   "outputs": [],
   "source": [
    "a = [1, 2, 3, 4, 5]\n",
    "del a[:2]"
   ]
  },
  {
   "cell_type": "code",
   "execution_count": 27,
   "id": "ec881a1f",
   "metadata": {},
   "outputs": [
    {
     "data": {
      "text/plain": [
       "[3, 4, 5]"
      ]
     },
     "execution_count": 27,
     "metadata": {},
     "output_type": "execute_result"
    }
   ],
   "source": [
    "a"
   ]
  },
  {
   "cell_type": "markdown",
   "id": "ebe49249",
   "metadata": {},
   "source": [
    "#### 리스트 요소 제거(remove)"
   ]
  },
  {
   "cell_type": "code",
   "execution_count": 32,
   "id": "2c7502ee",
   "metadata": {},
   "outputs": [],
   "source": [
    "# remove(x)는 리스트에서 첫 번째로 나오는 x를 삭제하는 함수이다.\n",
    "a = ['a','b','c']\n",
    "a.remove(a[1])"
   ]
  },
  {
   "cell_type": "code",
   "execution_count": 30,
   "id": "0c43211f",
   "metadata": {},
   "outputs": [
    {
     "data": {
      "text/plain": [
       "['a', 'c']"
      ]
     },
     "execution_count": 30,
     "metadata": {},
     "output_type": "execute_result"
    }
   ],
   "source": [
    "a"
   ]
  },
  {
   "cell_type": "code",
   "execution_count": 40,
   "id": "4d427e63",
   "metadata": {},
   "outputs": [
    {
     "data": {
      "text/plain": [
       "['a', 'b', [1, 2, 3, 5], 'c']"
      ]
     },
     "execution_count": 40,
     "metadata": {},
     "output_type": "execute_result"
    }
   ],
   "source": [
    "a = ['a','b',[1, 2, 3, 4, 5],'c']\n",
    "a[-2].remove(4)\n",
    "a"
   ]
  },
  {
   "cell_type": "markdown",
   "id": "e24818e0",
   "metadata": {},
   "source": [
    "#### 리스트 요소 끄집어내기(pop)"
   ]
  },
  {
   "cell_type": "code",
   "execution_count": 44,
   "id": "ae392e46",
   "metadata": {},
   "outputs": [
    {
     "data": {
      "text/plain": [
       "3"
      ]
     },
     "execution_count": 44,
     "metadata": {},
     "output_type": "execute_result"
    }
   ],
   "source": [
    "a = [1,2,3]\n",
    "a.pop()"
   ]
  },
  {
   "cell_type": "code",
   "execution_count": 45,
   "id": "0a65762d",
   "metadata": {},
   "outputs": [
    {
     "data": {
      "text/plain": [
       "[2, 3]"
      ]
     },
     "execution_count": 45,
     "metadata": {},
     "output_type": "execute_result"
    }
   ],
   "source": [
    "a = [1,2,3]\n",
    "a.pop(0)\n",
    "a"
   ]
  },
  {
   "cell_type": "markdown",
   "id": "41bf37e7",
   "metadata": {},
   "source": [
    "#### 리스트추가\n",
    "##### 리스트에 요소 추가(append)"
   ]
  },
  {
   "cell_type": "code",
   "execution_count": 46,
   "id": "ef0e5d53",
   "metadata": {},
   "outputs": [
    {
     "data": {
      "text/plain": [
       "[1, 2, 3, 'a']"
      ]
     },
     "execution_count": 46,
     "metadata": {},
     "output_type": "execute_result"
    }
   ],
   "source": [
    "a= [1,2,3]\n",
    "a.append('a')\n",
    "a"
   ]
  },
  {
   "cell_type": "markdown",
   "id": "d65fe5cd",
   "metadata": {},
   "source": [
    "##### 리스트에 요소 추가(insert), 리스트.insert(입력할index, 값)"
   ]
  },
  {
   "cell_type": "code",
   "execution_count": 47,
   "id": "472ef596",
   "metadata": {},
   "outputs": [],
   "source": [
    "a = [1, 2, 3]\n",
    "a.insert(2, 'a')"
   ]
  },
  {
   "cell_type": "code",
   "execution_count": 48,
   "id": "0d9037b9",
   "metadata": {},
   "outputs": [
    {
     "data": {
      "text/plain": [
       "[1, 2, 'a', 3]"
      ]
     },
     "execution_count": 48,
     "metadata": {},
     "output_type": "execute_result"
    }
   ],
   "source": [
    "a"
   ]
  },
  {
   "cell_type": "markdown",
   "id": "b3a73bb8",
   "metadata": {},
   "source": [
    "#### + 연산자로 더하기"
   ]
  },
  {
   "cell_type": "code",
   "execution_count": 50,
   "id": "6c80e8f8",
   "metadata": {},
   "outputs": [
    {
     "data": {
      "text/plain": [
       "[1, 2, 3, 4, 5, 6]"
      ]
     },
     "execution_count": 50,
     "metadata": {},
     "output_type": "execute_result"
    }
   ],
   "source": [
    "a = [1, 2, 3]\n",
    "b = [4, 5, 6]\n",
    "a+b"
   ]
  },
  {
   "cell_type": "markdown",
   "id": "f62280fa",
   "metadata": {},
   "source": [
    "#### extend메소드 : 리스트.extend(추가할리스트)"
   ]
  },
  {
   "cell_type": "code",
   "execution_count": 51,
   "id": "07ffd549",
   "metadata": {},
   "outputs": [],
   "source": [
    "a = [1, 2, 3]\n",
    "a.extend([1,2])"
   ]
  },
  {
   "cell_type": "code",
   "execution_count": 52,
   "id": "838735f9",
   "metadata": {},
   "outputs": [
    {
     "data": {
      "text/plain": [
       "[1, 2, 3, 1, 2]"
      ]
     },
     "execution_count": 52,
     "metadata": {},
     "output_type": "execute_result"
    }
   ],
   "source": [
    "a"
   ]
  },
  {
   "cell_type": "code",
   "execution_count": 53,
   "id": "2c8f0d90",
   "metadata": {},
   "outputs": [
    {
     "data": {
      "text/plain": [
       "[1, 2, 3, 1, 2]"
      ]
     },
     "execution_count": 53,
     "metadata": {},
     "output_type": "execute_result"
    }
   ],
   "source": [
    "a = [1, 2, 3]\n",
    "b = [1, 2]\n",
    "a+b"
   ]
  },
  {
   "cell_type": "code",
   "execution_count": 55,
   "id": "745a3164",
   "metadata": {},
   "outputs": [
    {
     "data": {
      "text/plain": [
       "[1, 2]"
      ]
     },
     "execution_count": 55,
     "metadata": {},
     "output_type": "execute_result"
    }
   ],
   "source": [
    "a = {1,2}\n",
    "b = {1}\n",
    "list(a.union(b))"
   ]
  },
  {
   "cell_type": "markdown",
   "id": "dd619ddd",
   "metadata": {},
   "source": [
    "#### 리스트 정렬(sort)"
   ]
  },
  {
   "cell_type": "code",
   "execution_count": 56,
   "id": "0906a149",
   "metadata": {},
   "outputs": [],
   "source": [
    "a = [100, 200, -2, 1, 2, 3, 4, 5, 6]\n",
    "a.sort()"
   ]
  },
  {
   "cell_type": "code",
   "execution_count": 57,
   "id": "6c54af2d",
   "metadata": {},
   "outputs": [
    {
     "data": {
      "text/plain": [
       "[-2, 1, 2, 3, 4, 5, 6, 100, 200]"
      ]
     },
     "execution_count": 57,
     "metadata": {},
     "output_type": "execute_result"
    }
   ],
   "source": [
    "a"
   ]
  },
  {
   "cell_type": "code",
   "execution_count": 58,
   "id": "dc453ce9",
   "metadata": {},
   "outputs": [
    {
     "data": {
      "text/plain": [
       "['a', 'b', 'c']"
      ]
     },
     "execution_count": 58,
     "metadata": {},
     "output_type": "execute_result"
    }
   ],
   "source": [
    "a = ['a', 'c', 'b']\n",
    "a.sort()\n",
    "a"
   ]
  },
  {
   "cell_type": "code",
   "execution_count": 61,
   "id": "21f4a0b2",
   "metadata": {},
   "outputs": [
    {
     "data": {
      "text/plain": [
       "['3', 'E', 'b', '김', '나', '박', '이']"
      ]
     },
     "execution_count": 61,
     "metadata": {},
     "output_type": "execute_result"
    }
   ],
   "source": [
    "a = ['이','나','박','김','b','E','3']\n",
    "a.sort()\n",
    "a"
   ]
  },
  {
   "cell_type": "code",
   "execution_count": 67,
   "id": "88f54c11",
   "metadata": {
    "scrolled": false
   },
   "outputs": [
    {
     "data": {
      "text/plain": [
       "['3', 'E', 'b', '김', '나', '박', '이']"
      ]
     },
     "execution_count": 67,
     "metadata": {},
     "output_type": "execute_result"
    }
   ],
   "source": [
    "# 역순정렬\n",
    "a = ['이','나','박','김','b','E','3']\n",
    "a.sort(reverse=0)\n",
    "a"
   ]
  },
  {
   "cell_type": "code",
   "execution_count": 69,
   "id": "7606689f",
   "metadata": {},
   "outputs": [
    {
     "data": {
      "text/plain": [
       "['이', '박', '나', '김', 'b', 'E', '3']"
      ]
     },
     "execution_count": 69,
     "metadata": {},
     "output_type": "execute_result"
    }
   ],
   "source": [
    "# 역순정렬\n",
    "a = ['이','나','박','김','b','E','3']\n",
    "a.sort(reverse=1)\n",
    "a"
   ]
  },
  {
   "cell_type": "code",
   "execution_count": 68,
   "id": "089bd742",
   "metadata": {
    "scrolled": true
   },
   "outputs": [
    {
     "data": {
      "text/plain": [
       "['이', '박', '나', '김', 'b', 'E', '3']"
      ]
     },
     "execution_count": 68,
     "metadata": {},
     "output_type": "execute_result"
    }
   ],
   "source": [
    "# 역순정렬\n",
    "a = ['이','나','박','김','b','E','3']\n",
    "a.sort(reverse=True)\n",
    "a"
   ]
  },
  {
   "cell_type": "markdown",
   "id": "e17258bb",
   "metadata": {},
   "source": [
    "#### 리스트 뒤집기(reverse)"
   ]
  },
  {
   "cell_type": "code",
   "execution_count": 65,
   "id": "a9ee53af",
   "metadata": {},
   "outputs": [
    {
     "data": {
      "text/plain": [
       "['3', 'E', 'b', '김', '박', '나', '이']"
      ]
     },
     "execution_count": 65,
     "metadata": {},
     "output_type": "execute_result"
    }
   ],
   "source": [
    "a = ['이','나','박','김','b','E','3']\n",
    "a.reverse()\n",
    "a"
   ]
  },
  {
   "cell_type": "markdown",
   "id": "df60e43a",
   "metadata": {},
   "source": [
    "#### 리스트에 포함된 요소 x의 개수 세기(count)"
   ]
  },
  {
   "cell_type": "code",
   "execution_count": 70,
   "id": "8d3b27e8",
   "metadata": {},
   "outputs": [
    {
     "data": {
      "text/plain": [
       "7"
      ]
     },
     "execution_count": 70,
     "metadata": {},
     "output_type": "execute_result"
    }
   ],
   "source": [
    "a = ['이','나','박','박','박','박','김','b','박','김','b','박','김','b','박','김','b','E','3']\n",
    "a.count('박')"
   ]
  },
  {
   "cell_type": "code",
   "execution_count": null,
   "id": "6e39f05c",
   "metadata": {},
   "outputs": [],
   "source": []
  }
 ],
 "metadata": {
  "kernelspec": {
   "display_name": "Python 3",
   "language": "python",
   "name": "python3"
  },
  "language_info": {
   "codemirror_mode": {
    "name": "ipython",
    "version": 3
   },
   "file_extension": ".py",
   "mimetype": "text/x-python",
   "name": "python",
   "nbconvert_exporter": "python",
   "pygments_lexer": "ipython3",
   "version": "3.8.9"
  }
 },
 "nbformat": 4,
 "nbformat_minor": 5
}
